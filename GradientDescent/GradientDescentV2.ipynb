{
 "cells": [
  {
   "cell_type": "code",
   "execution_count": 53,
   "id": "9c110bd1",
   "metadata": {},
   "outputs": [],
   "source": [
    "import numpy as np \n",
    "import pandas as pd \n",
    "import matplotlib.pyplot as plt \n",
    "import time \n",
    "from sklearn.preprocessing import StandardScaler \n",
    "from sklearn.model_selection import train_test_split"
   ]
  },
  {
   "cell_type": "code",
   "execution_count": 54,
   "id": "ad0b8108",
   "metadata": {},
   "outputs": [
    {
     "data": {
      "text/html": [
       "<div>\n",
       "<style scoped>\n",
       "    .dataframe tbody tr th:only-of-type {\n",
       "        vertical-align: middle;\n",
       "    }\n",
       "\n",
       "    .dataframe tbody tr th {\n",
       "        vertical-align: top;\n",
       "    }\n",
       "\n",
       "    .dataframe thead th {\n",
       "        text-align: right;\n",
       "    }\n",
       "</style>\n",
       "<table border=\"1\" class=\"dataframe\">\n",
       "  <thead>\n",
       "    <tr style=\"text-align: right;\">\n",
       "      <th></th>\n",
       "      <th>Store</th>\n",
       "      <th>Date</th>\n",
       "      <th>Weekly_Sales</th>\n",
       "      <th>Holiday_Flag</th>\n",
       "      <th>Temperature</th>\n",
       "      <th>Fuel_Price</th>\n",
       "      <th>CPI</th>\n",
       "      <th>Unemployment</th>\n",
       "    </tr>\n",
       "  </thead>\n",
       "  <tbody>\n",
       "    <tr>\n",
       "      <th>0</th>\n",
       "      <td>1</td>\n",
       "      <td>05-02-2010</td>\n",
       "      <td>1643690.90</td>\n",
       "      <td>0</td>\n",
       "      <td>42.31</td>\n",
       "      <td>2.572</td>\n",
       "      <td>211.096358</td>\n",
       "      <td>8.106</td>\n",
       "    </tr>\n",
       "    <tr>\n",
       "      <th>1</th>\n",
       "      <td>1</td>\n",
       "      <td>12-02-2010</td>\n",
       "      <td>1641957.44</td>\n",
       "      <td>1</td>\n",
       "      <td>38.51</td>\n",
       "      <td>2.548</td>\n",
       "      <td>211.242170</td>\n",
       "      <td>8.106</td>\n",
       "    </tr>\n",
       "    <tr>\n",
       "      <th>2</th>\n",
       "      <td>1</td>\n",
       "      <td>19-02-2010</td>\n",
       "      <td>1611968.17</td>\n",
       "      <td>0</td>\n",
       "      <td>39.93</td>\n",
       "      <td>2.514</td>\n",
       "      <td>211.289143</td>\n",
       "      <td>8.106</td>\n",
       "    </tr>\n",
       "    <tr>\n",
       "      <th>3</th>\n",
       "      <td>1</td>\n",
       "      <td>26-02-2010</td>\n",
       "      <td>1409727.59</td>\n",
       "      <td>0</td>\n",
       "      <td>46.63</td>\n",
       "      <td>2.561</td>\n",
       "      <td>211.319643</td>\n",
       "      <td>8.106</td>\n",
       "    </tr>\n",
       "    <tr>\n",
       "      <th>4</th>\n",
       "      <td>1</td>\n",
       "      <td>05-03-2010</td>\n",
       "      <td>1554806.68</td>\n",
       "      <td>0</td>\n",
       "      <td>46.50</td>\n",
       "      <td>2.625</td>\n",
       "      <td>211.350143</td>\n",
       "      <td>8.106</td>\n",
       "    </tr>\n",
       "  </tbody>\n",
       "</table>\n",
       "</div>"
      ],
      "text/plain": [
       "   Store        Date  Weekly_Sales  Holiday_Flag  Temperature  Fuel_Price  \\\n",
       "0      1  05-02-2010    1643690.90             0        42.31       2.572   \n",
       "1      1  12-02-2010    1641957.44             1        38.51       2.548   \n",
       "2      1  19-02-2010    1611968.17             0        39.93       2.514   \n",
       "3      1  26-02-2010    1409727.59             0        46.63       2.561   \n",
       "4      1  05-03-2010    1554806.68             0        46.50       2.625   \n",
       "\n",
       "          CPI  Unemployment  \n",
       "0  211.096358         8.106  \n",
       "1  211.242170         8.106  \n",
       "2  211.289143         8.106  \n",
       "3  211.319643         8.106  \n",
       "4  211.350143         8.106  "
      ]
     },
     "execution_count": 54,
     "metadata": {},
     "output_type": "execute_result"
    }
   ],
   "source": [
    "df = pd.read_csv(\"Walmart.csv\") \n",
    "df.head() "
   ]
  },
  {
   "cell_type": "code",
   "execution_count": 55,
   "id": "f31148b6",
   "metadata": {},
   "outputs": [
    {
     "data": {
      "text/plain": [
       "Store           False\n",
       "Date            False\n",
       "Weekly_Sales    False\n",
       "Holiday_Flag    False\n",
       "Temperature     False\n",
       "Fuel_Price      False\n",
       "CPI             False\n",
       "Unemployment    False\n",
       "dtype: bool"
      ]
     },
     "execution_count": 55,
     "metadata": {},
     "output_type": "execute_result"
    }
   ],
   "source": [
    "# Does null variables exist? \n",
    "df.isnull().any()"
   ]
  },
  {
   "cell_type": "code",
   "execution_count": 56,
   "id": "61adade0",
   "metadata": {},
   "outputs": [
    {
     "data": {
      "text/plain": [
       "Store           0\n",
       "Date            0\n",
       "Weekly_Sales    0\n",
       "Holiday_Flag    0\n",
       "Temperature     0\n",
       "Fuel_Price      0\n",
       "CPI             0\n",
       "Unemployment    0\n",
       "dtype: int64"
      ]
     },
     "execution_count": 56,
     "metadata": {},
     "output_type": "execute_result"
    }
   ],
   "source": [
    "df.isnull().sum()"
   ]
  },
  {
   "cell_type": "code",
   "execution_count": 57,
   "id": "952ebd1c",
   "metadata": {},
   "outputs": [
    {
     "data": {
      "text/html": [
       "<div>\n",
       "<style scoped>\n",
       "    .dataframe tbody tr th:only-of-type {\n",
       "        vertical-align: middle;\n",
       "    }\n",
       "\n",
       "    .dataframe tbody tr th {\n",
       "        vertical-align: top;\n",
       "    }\n",
       "\n",
       "    .dataframe thead th {\n",
       "        text-align: right;\n",
       "    }\n",
       "</style>\n",
       "<table border=\"1\" class=\"dataframe\">\n",
       "  <thead>\n",
       "    <tr style=\"text-align: right;\">\n",
       "      <th></th>\n",
       "      <th>Store</th>\n",
       "      <th>Weekly_Sales</th>\n",
       "      <th>Holiday_Flag</th>\n",
       "      <th>Temperature</th>\n",
       "      <th>Fuel_Price</th>\n",
       "      <th>CPI</th>\n",
       "      <th>Unemployment</th>\n",
       "    </tr>\n",
       "  </thead>\n",
       "  <tbody>\n",
       "    <tr>\n",
       "      <th>0</th>\n",
       "      <td>1</td>\n",
       "      <td>1643690.90</td>\n",
       "      <td>0</td>\n",
       "      <td>42.31</td>\n",
       "      <td>2.572</td>\n",
       "      <td>211.096358</td>\n",
       "      <td>8.106</td>\n",
       "    </tr>\n",
       "    <tr>\n",
       "      <th>1</th>\n",
       "      <td>1</td>\n",
       "      <td>1641957.44</td>\n",
       "      <td>1</td>\n",
       "      <td>38.51</td>\n",
       "      <td>2.548</td>\n",
       "      <td>211.242170</td>\n",
       "      <td>8.106</td>\n",
       "    </tr>\n",
       "    <tr>\n",
       "      <th>2</th>\n",
       "      <td>1</td>\n",
       "      <td>1611968.17</td>\n",
       "      <td>0</td>\n",
       "      <td>39.93</td>\n",
       "      <td>2.514</td>\n",
       "      <td>211.289143</td>\n",
       "      <td>8.106</td>\n",
       "    </tr>\n",
       "    <tr>\n",
       "      <th>3</th>\n",
       "      <td>1</td>\n",
       "      <td>1409727.59</td>\n",
       "      <td>0</td>\n",
       "      <td>46.63</td>\n",
       "      <td>2.561</td>\n",
       "      <td>211.319643</td>\n",
       "      <td>8.106</td>\n",
       "    </tr>\n",
       "    <tr>\n",
       "      <th>4</th>\n",
       "      <td>1</td>\n",
       "      <td>1554806.68</td>\n",
       "      <td>0</td>\n",
       "      <td>46.50</td>\n",
       "      <td>2.625</td>\n",
       "      <td>211.350143</td>\n",
       "      <td>8.106</td>\n",
       "    </tr>\n",
       "  </tbody>\n",
       "</table>\n",
       "</div>"
      ],
      "text/plain": [
       "   Store  Weekly_Sales  Holiday_Flag  Temperature  Fuel_Price         CPI  \\\n",
       "0      1    1643690.90             0        42.31       2.572  211.096358   \n",
       "1      1    1641957.44             1        38.51       2.548  211.242170   \n",
       "2      1    1611968.17             0        39.93       2.514  211.289143   \n",
       "3      1    1409727.59             0        46.63       2.561  211.319643   \n",
       "4      1    1554806.68             0        46.50       2.625  211.350143   \n",
       "\n",
       "   Unemployment  \n",
       "0         8.106  \n",
       "1         8.106  \n",
       "2         8.106  \n",
       "3         8.106  \n",
       "4         8.106  "
      ]
     },
     "execution_count": 57,
     "metadata": {},
     "output_type": "execute_result"
    }
   ],
   "source": [
    "df.drop([\"Date\"],axis=1,inplace=True) \n",
    "df.head()"
   ]
  },
  {
   "cell_type": "code",
   "execution_count": 58,
   "id": "105d28cd",
   "metadata": {},
   "outputs": [
    {
     "name": "stdout",
     "output_type": "stream",
     "text": [
      "['Store', 'Weekly_Sales', 'Temperature', 'Fuel_Price', 'CPI', 'Unemployment']\n"
     ]
    }
   ],
   "source": [
    "# Numerical columns are separated from categorical variables.(\"Holiday_Flag\")\n",
    "num_col = [col for col in df.columns if not col==\"Holiday_Flag\"] \n",
    "print(num_col) "
   ]
  },
  {
   "cell_type": "code",
   "execution_count": 59,
   "id": "7280edf4",
   "metadata": {},
   "outputs": [],
   "source": [
    "def outlier_thresholds(dataframe, col_name, q1=0.15, q3=0.85):\n",
    "    quartile1 = dataframe[col_name].quantile(q1)\n",
    "    quartile3 = dataframe[col_name].quantile(q3)\n",
    "    interquantile_range = quartile3 - quartile1\n",
    "    up_limit = quartile3 + 1.5 * interquantile_range\n",
    "    low_limit = quartile1 - 1.5 * interquantile_range\n",
    "    return low_limit, up_limit"
   ]
  },
  {
   "cell_type": "code",
   "execution_count": 60,
   "id": "f3a3380b",
   "metadata": {},
   "outputs": [],
   "source": [
    "def check_outlier(dataframe, col_name):\n",
    "    low_limit, up_limit = outlier_thresholds(dataframe, col_name)\n",
    "    if dataframe[(dataframe[col_name] > up_limit) | (dataframe[col_name] < low_limit)].any(axis=None):\n",
    "        return True\n",
    "    else:\n",
    "        return False"
   ]
  },
  {
   "cell_type": "code",
   "execution_count": 61,
   "id": "11c0096e",
   "metadata": {},
   "outputs": [],
   "source": [
    "def replace_with_thresholds(dataframe, variable, q1=0.15, q3=0.85):\n",
    "    low_limit, up_limit = outlier_thresholds(dataframe, variable, q1=0.15, q3=0.85)\n",
    "    dataframe.loc[(dataframe[variable] < low_limit), variable] = low_limit\n",
    "    dataframe.loc[(dataframe[variable] > up_limit), variable] = up_limit "
   ]
  },
  {
   "cell_type": "code",
   "execution_count": 62,
   "id": "9e21d254",
   "metadata": {},
   "outputs": [
    {
     "name": "stdout",
     "output_type": "stream",
     "text": [
      "Store False\n",
      "Weekly_Sales True\n",
      "Temperature False\n",
      "Fuel_Price False\n",
      "CPI False\n",
      "Unemployment True\n"
     ]
    }
   ],
   "source": [
    "for col in num_col:\n",
    "    print(col, check_outlier(df, col))\n",
    "    if check_outlier(df, col):\n",
    "        replace_with_thresholds(df, col)\n"
   ]
  },
  {
   "cell_type": "code",
   "execution_count": 63,
   "id": "df286038",
   "metadata": {},
   "outputs": [
    {
     "name": "stdout",
     "output_type": "stream",
     "text": [
      "Store False\n",
      "Weekly_Sales False\n",
      "Temperature False\n",
      "Fuel_Price False\n",
      "CPI False\n",
      "Unemployment False\n"
     ]
    }
   ],
   "source": [
    "for col in num_col:\n",
    "    print(col, check_outlier(df, col))"
   ]
  },
  {
   "cell_type": "code",
   "execution_count": 64,
   "id": "dae7af84",
   "metadata": {},
   "outputs": [
    {
     "data": {
      "text/html": [
       "<div>\n",
       "<style scoped>\n",
       "    .dataframe tbody tr th:only-of-type {\n",
       "        vertical-align: middle;\n",
       "    }\n",
       "\n",
       "    .dataframe tbody tr th {\n",
       "        vertical-align: top;\n",
       "    }\n",
       "\n",
       "    .dataframe thead th {\n",
       "        text-align: right;\n",
       "    }\n",
       "</style>\n",
       "<table border=\"1\" class=\"dataframe\">\n",
       "  <thead>\n",
       "    <tr style=\"text-align: right;\">\n",
       "      <th></th>\n",
       "      <th>Store</th>\n",
       "      <th>Weekly_Sales</th>\n",
       "      <th>Holiday_Flag</th>\n",
       "      <th>Temperature</th>\n",
       "      <th>Fuel_Price</th>\n",
       "      <th>CPI</th>\n",
       "      <th>Unemployment</th>\n",
       "    </tr>\n",
       "  </thead>\n",
       "  <tbody>\n",
       "    <tr>\n",
       "      <th>0</th>\n",
       "      <td>-1.693979</td>\n",
       "      <td>1.058418</td>\n",
       "      <td>0</td>\n",
       "      <td>-0.995136</td>\n",
       "      <td>-1.713800</td>\n",
       "      <td>1.004175</td>\n",
       "      <td>0.072167</td>\n",
       "    </tr>\n",
       "    <tr>\n",
       "      <th>1</th>\n",
       "      <td>-1.693979</td>\n",
       "      <td>1.055344</td>\n",
       "      <td>1</td>\n",
       "      <td>-1.201170</td>\n",
       "      <td>-1.766089</td>\n",
       "      <td>1.007880</td>\n",
       "      <td>0.072167</td>\n",
       "    </tr>\n",
       "    <tr>\n",
       "      <th>2</th>\n",
       "      <td>-1.693979</td>\n",
       "      <td>1.002160</td>\n",
       "      <td>0</td>\n",
       "      <td>-1.124178</td>\n",
       "      <td>-1.840166</td>\n",
       "      <td>1.009074</td>\n",
       "      <td>0.072167</td>\n",
       "    </tr>\n",
       "    <tr>\n",
       "      <th>3</th>\n",
       "      <td>-1.693979</td>\n",
       "      <td>0.643501</td>\n",
       "      <td>0</td>\n",
       "      <td>-0.760907</td>\n",
       "      <td>-1.737766</td>\n",
       "      <td>1.009849</td>\n",
       "      <td>0.072167</td>\n",
       "    </tr>\n",
       "    <tr>\n",
       "      <th>4</th>\n",
       "      <td>-1.693979</td>\n",
       "      <td>0.900788</td>\n",
       "      <td>0</td>\n",
       "      <td>-0.767955</td>\n",
       "      <td>-1.598328</td>\n",
       "      <td>1.010624</td>\n",
       "      <td>0.072167</td>\n",
       "    </tr>\n",
       "  </tbody>\n",
       "</table>\n",
       "</div>"
      ],
      "text/plain": [
       "      Store  Weekly_Sales  Holiday_Flag  Temperature  Fuel_Price       CPI  \\\n",
       "0 -1.693979      1.058418             0    -0.995136   -1.713800  1.004175   \n",
       "1 -1.693979      1.055344             1    -1.201170   -1.766089  1.007880   \n",
       "2 -1.693979      1.002160             0    -1.124178   -1.840166  1.009074   \n",
       "3 -1.693979      0.643501             0    -0.760907   -1.737766  1.009849   \n",
       "4 -1.693979      0.900788             0    -0.767955   -1.598328  1.010624   \n",
       "\n",
       "   Unemployment  \n",
       "0      0.072167  \n",
       "1      0.072167  \n",
       "2      0.072167  \n",
       "3      0.072167  \n",
       "4      0.072167  "
      ]
     },
     "execution_count": 64,
     "metadata": {},
     "output_type": "execute_result"
    }
   ],
   "source": [
    "scale = StandardScaler() \n",
    "df[num_col] = scale.fit_transform(df[num_col]) \n",
    "df.head()"
   ]
  },
  {
   "cell_type": "code",
   "execution_count": 65,
   "id": "ff82eb98",
   "metadata": {},
   "outputs": [
    {
     "name": "stdout",
     "output_type": "stream",
     "text": [
      "         Store  Holiday_Flag  Temperature  Fuel_Price       CPI  Unemployment\n",
      "0    -1.693979             0    -0.995136   -1.713800  1.004175      0.072167\n",
      "1    -1.693979             1    -1.201170   -1.766089  1.007880      0.072167\n",
      "2    -1.693979             0    -1.124178   -1.840166  1.009074      0.072167\n",
      "3    -1.693979             0    -0.760907   -1.737766  1.009849      0.072167\n",
      "4    -1.693979             0    -0.767955   -1.598328  1.010624      0.072167\n",
      "...        ...           ...          ...         ...       ...           ...\n",
      "6430  1.693979             0     0.228602    1.390883  0.519270      0.392766\n",
      "6431  1.693979             0     0.229144    1.364738  0.523256      0.383336\n",
      "6432  1.693979             0    -0.335825    1.397419  0.527241      0.383336\n",
      "6433  1.693979             0    -0.227385    1.329879  0.527332      0.383336\n",
      "6434  1.693979             0    -0.098343    1.140330  0.526775      0.383336\n",
      "\n",
      "[6435 rows x 6 columns] 0       1.058418\n",
      "1       1.055344\n",
      "2       1.002160\n",
      "3       0.643501\n",
      "4       0.900788\n",
      "          ...   \n",
      "6430   -0.591786\n",
      "6431   -0.555819\n",
      "6432   -0.554029\n",
      "6433   -0.583005\n",
      "6434   -0.508244\n",
      "Name: Weekly_Sales, Length: 6435, dtype: float64\n"
     ]
    }
   ],
   "source": [
    "y = df[\"Weekly_Sales\"] \n",
    "x = df.drop(\"Weekly_Sales\",axis=1)\n",
    "print(x,y)"
   ]
  },
  {
   "cell_type": "code",
   "execution_count": 66,
   "id": "d010cf8b",
   "metadata": {},
   "outputs": [],
   "source": [
    "X_train,X_test,Y_train,Y_test = train_test_split(x,y,test_size=0.30,random_state=17)"
   ]
  },
  {
   "cell_type": "code",
   "execution_count": 67,
   "id": "6feb1848",
   "metadata": {},
   "outputs": [
    {
     "name": "stdout",
     "output_type": "stream",
     "text": [
      "X_train shape: (4504, 6) \n",
      "Y_train shape: (4504,) \n",
      "X_test shape: (1931, 6) \n",
      "Y_test shape: (1931,)\n"
     ]
    }
   ],
   "source": [
    "print(\"X_train shape:\",X_train.shape,\"\\nY_train shape:\",Y_train.shape\n",
    "     ,\"\\nX_test shape:\",X_test.shape,\"\\nY_test shape:\",Y_test.shape)"
   ]
  },
  {
   "cell_type": "code",
   "execution_count": 68,
   "id": "a2cd390a",
   "metadata": {},
   "outputs": [
    {
     "data": {
      "text/plain": [
       "pandas.core.frame.DataFrame"
      ]
     },
     "execution_count": 68,
     "metadata": {},
     "output_type": "execute_result"
    }
   ],
   "source": [
    "type(X_train)"
   ]
  },
  {
   "cell_type": "code",
   "execution_count": 69,
   "id": "c4a4d8bf",
   "metadata": {},
   "outputs": [],
   "source": [
    "# In our example we should convert the dataframe to numpy array.\n",
    "X_train = X_train.to_numpy() "
   ]
  },
  {
   "cell_type": "code",
   "execution_count": 70,
   "id": "253daed8",
   "metadata": {},
   "outputs": [
    {
     "data": {
      "text/plain": [
       "numpy.ndarray"
      ]
     },
     "execution_count": 70,
     "metadata": {},
     "output_type": "execute_result"
    }
   ],
   "source": [
    "type(X_train)"
   ]
  },
  {
   "cell_type": "code",
   "execution_count": 71,
   "id": "112ecd0b",
   "metadata": {},
   "outputs": [],
   "source": [
    "X_test = X_test.to_numpy() \n",
    "Y_train = Y_train.to_numpy() "
   ]
  },
  {
   "cell_type": "code",
   "execution_count": 72,
   "id": "26559d95",
   "metadata": {},
   "outputs": [],
   "source": [
    "Y_test = Y_test.to_numpy()  "
   ]
  },
  {
   "cell_type": "code",
   "execution_count": 73,
   "id": "c81aa61f",
   "metadata": {},
   "outputs": [
    {
     "data": {
      "text/plain": [
       "numpy.ndarray"
      ]
     },
     "execution_count": 73,
     "metadata": {},
     "output_type": "execute_result"
    }
   ],
   "source": [
    "type(X_test)"
   ]
  },
  {
   "cell_type": "code",
   "execution_count": 74,
   "id": "23fa89c1",
   "metadata": {},
   "outputs": [
    {
     "data": {
      "text/plain": [
       "numpy.ndarray"
      ]
     },
     "execution_count": 74,
     "metadata": {},
     "output_type": "execute_result"
    }
   ],
   "source": [
    "type(Y_test)"
   ]
  },
  {
   "cell_type": "code",
   "execution_count": 75,
   "id": "5156fd29",
   "metadata": {},
   "outputs": [
    {
     "data": {
      "text/plain": [
       "numpy.ndarray"
      ]
     },
     "execution_count": 75,
     "metadata": {},
     "output_type": "execute_result"
    }
   ],
   "source": [
    "type(Y_train)"
   ]
  },
  {
   "cell_type": "code",
   "execution_count": 76,
   "id": "dc4ac2af",
   "metadata": {},
   "outputs": [
    {
     "data": {
      "text/plain": [
       "(4504, 6)"
      ]
     },
     "execution_count": 76,
     "metadata": {},
     "output_type": "execute_result"
    }
   ],
   "source": [
    "X_train.shape"
   ]
  },
  {
   "attachments": {},
   "cell_type": "markdown",
   "id": "aec30bff",
   "metadata": {},
   "source": [
    "This is our dataset. Dataframe's columns converted to numpy array with few lines of code."
   ]
  },
  {
   "attachments": {},
   "cell_type": "markdown",
   "id": "536b8611",
   "metadata": {},
   "source": [
    "# Gradient Descent"
   ]
  },
  {
   "attachments": {},
   "cell_type": "markdown",
   "id": "b895c438",
   "metadata": {},
   "source": [
    "Gradient Descent,is an optimization algorithm which updates parameters of cost function step by step.If we are training a model with very large set,it takes really long time. Therefore, an algorithm which called mini-batch gradient descent has been developed. Actually, we can say that gradient descent has 3 types. \n",
    "* **Batch Gradient Descent**\n",
    "* **Mini-Batch Gradient Descent**\n",
    "* **Stochastic gradient descent**"
   ]
  },
  {
   "attachments": {},
   "cell_type": "markdown",
   "id": "4bf0e70c",
   "metadata": {},
   "source": [
    "Their differences will be explained with graphs and by keeping time in this notebook."
   ]
  },
  {
   "attachments": {},
   "cell_type": "markdown",
   "id": "3b496624",
   "metadata": {},
   "source": [
    "## Batch Gradient Descent "
   ]
  },
  {
   "attachments": {},
   "cell_type": "markdown",
   "id": "2b8bb135",
   "metadata": {},
   "source": [
    "In batch gradient descent,whole dataset is used to calculate error."
   ]
  },
  {
   "cell_type": "code",
   "execution_count": 77,
   "id": "66b3d9f0",
   "metadata": {},
   "outputs": [],
   "source": [
    "def initilaze_parameters():  \n",
    "    n= X_train.shape[1]\n",
    "    w = np.random.randn((n))\n",
    "    b= 0.\n",
    "    return w,b"
   ]
  },
  {
   "cell_type": "code",
   "execution_count": 78,
   "id": "9d5f2aa6",
   "metadata": {},
   "outputs": [
    {
     "name": "stdout",
     "output_type": "stream",
     "text": [
      "[ 0.78998408  0.4520158  -1.16185335 -1.15186828 -1.48605589 -0.89386556] 0.0\n"
     ]
    }
   ],
   "source": [
    "w,b = initilaze_parameters() \n",
    "print(w,b)"
   ]
  },
  {
   "attachments": {},
   "cell_type": "markdown",
   "id": "a340dc08",
   "metadata": {},
   "source": [
    "These are the parameters we will use to calculate cost function.Let's implement single prediction with vectorization. "
   ]
  },
  {
   "cell_type": "code",
   "execution_count": 79,
   "id": "1c3e9be3",
   "metadata": {},
   "outputs": [],
   "source": [
    "def single_predict_vector(X_train,w,b): \n",
    "    p = np.dot(X_train,w) + b\n",
    "    return p"
   ]
  },
  {
   "cell_type": "code",
   "execution_count": 80,
   "id": "7fa6e315",
   "metadata": {},
   "outputs": [],
   "source": [
    "def compute_cost(x,y,w,b): \n",
    "    m = x.shape[0]\n",
    "    cost = 0.\n",
    "    for i in range(x.shape[0]):\n",
    "        y_hat = np.dot(x[i],w) + b\n",
    "        cost = cost + (y_hat - y[i])**2 \n",
    "    cost = cost / (2*m)\n",
    "    return cost"
   ]
  },
  {
   "cell_type": "code",
   "execution_count": 81,
   "id": "0c53b007",
   "metadata": {},
   "outputs": [
    {
     "name": "stdout",
     "output_type": "stream",
     "text": [
      "3.586776464972559\n"
     ]
    }
   ],
   "source": [
    "print(compute_cost(X_train,Y_train,w,b))"
   ]
  },
  {
   "cell_type": "code",
   "execution_count": 82,
   "id": "e1627f11",
   "metadata": {},
   "outputs": [],
   "source": [
    "def back_prob(x,y,w,b): \n",
    "    m,n = x.shape\n",
    "    dj_dw = np.zeros((n,))\n",
    "    dj_db = 0.\n",
    "    for i in range(m): \n",
    "        err = (np.dot(x[i],w) + b) - y[i]\n",
    "        for j in range(n) : \n",
    "            dj_dw[j] = dj_dw[j] + err * x[i,j]\n",
    "        dj_db = dj_db + err\n",
    "        \n",
    "    dj_dw = dj_dw / m                                \n",
    "    dj_db = dj_db / m                                \n",
    "        \n",
    "    return dj_dw,dj_db"
   ]
  },
  {
   "cell_type": "code",
   "execution_count": 83,
   "id": "dc317959",
   "metadata": {},
   "outputs": [],
   "source": [
    "def batch_gradient_descent(x,y,w,b,iteration=1000,learning_rate=0.01): \n",
    "    # An array to store cost J and w's at each iteration primarily for graphing later\n",
    "    J_history = []\n",
    "    start_time = time.time()\n",
    "    for i in range(iteration):  \n",
    "        dj_dw,dj_db = back_prob(x,y,w,b)\n",
    "        b = b - learning_rate * dj_db \n",
    "        w = w - learning_rate * dj_dw  \n",
    "        J_history.append(compute_cost(x,y,w,b)) \n",
    "        if i % 100 == 0 : \n",
    "            print(f\"Iteration:{i} Cost {J_history[-1]}\") \n",
    "    finish_time = time.time()       \n",
    "    print(\"Running time :\",finish_time - start_time)\n",
    "    return w,b,J_history # to get graph"
   ]
  },
  {
   "cell_type": "code",
   "execution_count": 84,
   "id": "2767ed86",
   "metadata": {
    "scrolled": false
   },
   "outputs": [
    {
     "name": "stdout",
     "output_type": "stream",
     "text": [
      "Iteration:0 Cost 3.5186849274985055\n",
      "Iteration:100 Cost 0.8469073227208249\n",
      "Iteration:200 Cost 0.512929304204857\n",
      "Iteration:300 Cost 0.452861412130749\n",
      "Iteration:400 Cost 0.43778479926576\n",
      "Iteration:500 Cost 0.43311752417149635\n",
      "Iteration:600 Cost 0.43147497038233534\n",
      "Iteration:700 Cost 0.43081944694452906\n",
      "Iteration:800 Cost 0.4305082158232622\n",
      "Iteration:900 Cost 0.4303256120185675\n",
      "Running time : 79.39870810508728\n",
      "Final value of parameters:[-0.35541927  0.26557641 -0.01952387  0.00907751 -0.17081815 -0.08463728],-0.011\n"
     ]
    }
   ],
   "source": [
    "w_final,b_final,J_hist = batch_gradient_descent(X_train,Y_train,w,b) \n",
    "print(f\"Final value of parameters:{w_final},{b_final:0.3f}\")"
   ]
  },
  {
   "cell_type": "code",
   "execution_count": 85,
   "id": "53be54b0",
   "metadata": {},
   "outputs": [
    {
     "data": {
      "image/png": "[encoded data removed]",
      "text/plain": [
       "<Figure size 800x600 with 1 Axes>"
      ]
     },
     "metadata": {
      "needs_background": "light"
     },
     "output_type": "display_data"
    }
   ],
   "source": [
    "fig = plt.figure(figsize=(8,6), dpi=100) \n",
    "plt.plot(J_hist,c=\"b\") \n",
    "plt.show()"
   ]
  },
  {
   "cell_type": "code",
   "execution_count": 86,
   "id": "719ce507",
   "metadata": {},
   "outputs": [],
   "source": [
    "def get_predict(X,w_final,b_final): \n",
    "    predict = np.dot(X,w_final) + b_final \n",
    "    return predict"
   ]
  },
  {
   "attachments": {},
   "cell_type": "markdown",
   "id": "7e8a5298",
   "metadata": {},
   "source": [
    "Our cost function decreases normally and running time is 136 seconds(It can be change). In next cells, mini_batch gradient descent and stochastic dradient descent will be implemented. Then running time and cost function will be compared. "
   ]
  },
  {
   "attachments": {},
   "cell_type": "markdown",
   "id": "4f038b33",
   "metadata": {},
   "source": [
    "## Mini-Batch Gradient Descent"
   ]
  },
  {
   "attachments": {},
   "cell_type": "markdown",
   "id": "41c3296b",
   "metadata": {},
   "source": [
    "Parameters are updated after computing the gradient of  the error with respect to a subset of the training set. We expect it will run faster. "
   ]
  },
  {
   "cell_type": "code",
   "execution_count": 87,
   "id": "5a631e91",
   "metadata": {},
   "outputs": [],
   "source": [
    "def mini_batches(X,Y,batch_size=32,seed = 0): \n",
    "    n = int(X_train.shape[0] / 32)\n",
    "    mini_batches_x = []  \n",
    "    mini_batches_y = []  \n",
    "    for i in range(n) : \n",
    "        tmp1 = i*batch_size\n",
    "        tmp2 = (i+1)*batch_size\n",
    "        mini_batches_x.append(X[tmp1:tmp2])\n",
    "        mini_batches_y.append(Y[tmp1:tmp2])  \n",
    "    return mini_batches_x,mini_batches_y\n",
    "    "
   ]
  },
  {
   "cell_type": "code",
   "execution_count": 88,
   "id": "9288351f",
   "metadata": {},
   "outputs": [],
   "source": [
    "mini_batches_x,mini_batches_y = mini_batches(X_train,Y_train)"
   ]
  },
  {
   "cell_type": "code",
   "execution_count": 89,
   "id": "7b7c9e0f",
   "metadata": {},
   "outputs": [
    {
     "data": {
      "text/plain": [
       "32"
      ]
     },
     "execution_count": 89,
     "metadata": {},
     "output_type": "execute_result"
    }
   ],
   "source": [
    "len(mini_batches_x[0]) # Mini batch size"
   ]
  },
  {
   "cell_type": "code",
   "execution_count": 90,
   "id": "e7ad062a",
   "metadata": {},
   "outputs": [
    {
     "data": {
      "text/plain": [
       "140"
      ]
     },
     "execution_count": 90,
     "metadata": {},
     "output_type": "execute_result"
    }
   ],
   "source": [
    "len(mini_batches_x) # Number of Mini batches"
   ]
  },
  {
   "cell_type": "code",
   "execution_count": 91,
   "id": "839fc0d4",
   "metadata": {},
   "outputs": [
    {
     "data": {
      "text/plain": [
       "32"
      ]
     },
     "execution_count": 91,
     "metadata": {},
     "output_type": "execute_result"
    }
   ],
   "source": [
    "len(mini_batches_y[0]) # Mini batch size"
   ]
  },
  {
   "cell_type": "code",
   "execution_count": 92,
   "id": "3bef08a9",
   "metadata": {},
   "outputs": [
    {
     "data": {
      "text/plain": [
       "140"
      ]
     },
     "execution_count": 92,
     "metadata": {},
     "output_type": "execute_result"
    }
   ],
   "source": [
    "len(mini_batches_y) # Number of Mini batches"
   ]
  },
  {
   "cell_type": "code",
   "execution_count": 93,
   "id": "16551eb4",
   "metadata": {},
   "outputs": [],
   "source": [
    "w,b = initilaze_parameters()"
   ]
  },
  {
   "cell_type": "code",
   "execution_count": 94,
   "id": "8410076f",
   "metadata": {},
   "outputs": [],
   "source": [
    "def mini_batch_gradient_descent(mini_batches_x,mini_batches_y,w,b,learning_rate=0.01,epoch=20):   \n",
    "    J_history = [] \n",
    "    start_time = time.time()\n",
    "    for j in range(epoch) : \n",
    "        for i in range(len(mini_batches_x)) : \n",
    "            dj_dw, dj_db = back_prob(mini_batches_x[i],mini_batches_y[i],w,b) \n",
    "            b = b - learning_rate * dj_db \n",
    "            w = w - learning_rate * dj_dw  \n",
    "            J_history.append([compute_cost(mini_batches_x[i],mini_batches_y[i],w,b)])\n",
    "        print(f\"Epoch:{j} Cost {J_history[-1]}\")\n",
    "    finish_time = time.time() \n",
    "    print(\"Running time:\",finish_time-start_time) \n",
    "    return w,b,J_history "
   ]
  },
  {
   "cell_type": "code",
   "execution_count": 95,
   "id": "4ecd7b96",
   "metadata": {},
   "outputs": [
    {
     "name": "stdout",
     "output_type": "stream",
     "text": [
      "Epoch:0 Cost [0.567774135301052]\n",
      "Epoch:1 Cost [0.45007426537765843]\n",
      "Epoch:2 Cost [0.4409128504449576]\n",
      "Epoch:3 Cost [0.437088028722397]\n",
      "Epoch:4 Cost [0.43355575238791705]\n",
      "Epoch:5 Cost [0.4302903755507426]\n",
      "Epoch:6 Cost [0.4273660784315476]\n",
      "Epoch:7 Cost [0.4247874647244226]\n",
      "Epoch:8 Cost [0.42252939755993796]\n",
      "Epoch:9 Cost [0.42055763629974985]\n",
      "Epoch:10 Cost [0.4188370647251507]\n",
      "Epoch:11 Cost [0.4173349175839003]\n",
      "Epoch:12 Cost [0.4160219050755468]\n",
      "Epoch:13 Cost [0.41487240813305415]\n",
      "Epoch:14 Cost [0.4138642719269462]\n",
      "Epoch:15 Cost [0.4129784472654171]\n",
      "Epoch:16 Cost [0.41219859722252694]\n",
      "Epoch:17 Cost [0.41151072113921194]\n",
      "Epoch:18 Cost [0.41090281631623327]\n",
      "Epoch:19 Cost [0.41036458268932]\n",
      "Running time: 1.9677298069000244\n"
     ]
    }
   ],
   "source": [
    "w_last,b_last,Cost_hist = mini_batch_gradient_descent(mini_batches_x,mini_batches_y,w,b)"
   ]
  },
  {
   "cell_type": "code",
   "execution_count": 96,
   "id": "f2bed73d",
   "metadata": {},
   "outputs": [
    {
     "data": {
      "image/png": "[encoded data removed]",
      "text/plain": [
       "<Figure size 800x600 with 1 Axes>"
      ]
     },
     "metadata": {
      "needs_background": "light"
     },
     "output_type": "display_data"
    }
   ],
   "source": [
    "fig = plt.figure(figsize=(8,6), dpi=100) \n",
    "plt.xlim(0,500)\n",
    "plt.plot(Cost_hist,c=\"b\") \n",
    "plt.show()"
   ]
  },
  {
   "attachments": {},
   "cell_type": "markdown",
   "id": "100cce9c",
   "metadata": {},
   "source": [
    "# Stochastic gradient descent"
   ]
  },
  {
   "attachments": {},
   "cell_type": "markdown",
   "id": "bd52c968",
   "metadata": {},
   "source": [
    "The algorithm calculates the gradient for one observation picked at random, instead of calculating the gradient for the entire dataset.Therefore it is not optimum but gennerally it gives good result.However, we lose advantage of vectorization "
   ]
  },
  {
   "cell_type": "code",
   "execution_count": 97,
   "id": "09691424",
   "metadata": {},
   "outputs": [],
   "source": [
    "w,b = initilaze_parameters()"
   ]
  },
  {
   "cell_type": "code",
   "execution_count": 98,
   "id": "55636faa",
   "metadata": {},
   "outputs": [],
   "source": [
    "def compute_loss(X,Y,w,b): \n",
    "    loss = ((np.dot(w,X) + b) -Y )**2\n",
    "    return loss"
   ]
  },
  {
   "cell_type": "code",
   "execution_count": 99,
   "id": "146860e6",
   "metadata": {},
   "outputs": [
    {
     "data": {
      "text/plain": [
       "(4504, 6)"
      ]
     },
     "execution_count": 99,
     "metadata": {},
     "output_type": "execute_result"
    }
   ],
   "source": [
    "type(X_train)\n",
    "X_train.shape"
   ]
  },
  {
   "cell_type": "code",
   "execution_count": 100,
   "id": "9d88c8b1",
   "metadata": {},
   "outputs": [],
   "source": [
    "def stochastic_gradient_descent(X_train,Y_train,w,b,learning_rate=0.01,epoch=20): \n",
    "    C_history = [] \n",
    "    start_time = time.time()\n",
    "    for i in range(epoch): \n",
    "        for j in range(X_train.shape[0]):\n",
    "            random_index = np.random.randint(0, len(X_train), 1) # random sample \n",
    "            dj_dw, dj_db = back_prob(X_train[random_index],Y_train[random_index],w,b) \n",
    "            b = b - learning_rate * dj_db \n",
    "            w = w - learning_rate * dj_dw  \n",
    "            cost = compute_loss(X_train[j],Y_train[j],w,b)\n",
    "        C_history.append(cost)\n",
    "        print(f\"Iter:{i} Cost {C_history[-1]}\") \n",
    "    finish_time = time.time() \n",
    "    print(\"Running time:\",finish_time-start_time)\n",
    "    return w,b,C_history"
   ]
  },
  {
   "cell_type": "code",
   "execution_count": 101,
   "id": "4133fd8c",
   "metadata": {},
   "outputs": [
    {
     "name": "stdout",
     "output_type": "stream",
     "text": [
      "Iter:0 Cost 1.5664602516822939\n",
      "Iter:1 Cost 1.4560314358305717\n",
      "Iter:2 Cost 1.248499150567975\n",
      "Iter:3 Cost 1.3118431393139018\n",
      "Iter:4 Cost 1.3377986709043252\n",
      "Iter:5 Cost 0.9402985498430314\n",
      "Iter:6 Cost 1.592258628339125\n",
      "Iter:7 Cost 1.205883336297028\n",
      "Iter:8 Cost 1.4627484382100202\n",
      "Iter:9 Cost 1.2395951410916028\n",
      "Iter:10 Cost 1.0721930900117487\n",
      "Iter:11 Cost 0.9391192841065856\n",
      "Iter:12 Cost 1.2514876437134572\n",
      "Iter:13 Cost 1.3759675298460357\n",
      "Iter:14 Cost 1.0306291992138878\n",
      "Iter:15 Cost 1.6894697802638636\n",
      "Iter:16 Cost 1.3782648547786425\n",
      "Iter:17 Cost 1.471945383435051\n",
      "Iter:18 Cost 0.9656324968680801\n",
      "Iter:19 Cost 0.573332157771332\n",
      "Running time: 7.004697799682617\n"
     ]
    }
   ],
   "source": [
    "ww,bb,Costes = stochastic_gradient_descent(X_train,Y_train,w,b)"
   ]
  },
  {
   "cell_type": "code",
   "execution_count": 102,
   "id": "a5ab2bc2",
   "metadata": {},
   "outputs": [
    {
     "data": {
      "image/png": "[encoded data removed]",
      "text/plain": [
       "<Figure size 800x600 with 1 Axes>"
      ]
     },
     "metadata": {
      "needs_background": "light"
     },
     "output_type": "display_data"
    }
   ],
   "source": [
    "fig = plt.figure(figsize=(8,6), dpi=100) \n",
    "plt.xlim(0,25)\n",
    "plt.plot(Costes,c=\"b\") \n",
    "plt.show()"
   ]
  },
  {
   "cell_type": "code",
   "execution_count": null,
   "id": "1764fde0",
   "metadata": {},
   "outputs": [],
   "source": []
  }
 ],
 "metadata": {
  "kernelspec": {
   "display_name": "Python 3",
   "language": "python",
   "name": "python3"
  },
  "language_info": {
   "codemirror_mode": {
    "name": "ipython",
    "version": 3
   },
   "file_extension": ".py",
   "mimetype": "text/x-python",
   "name": "python",
   "nbconvert_exporter": "python",
   "pygments_lexer": "ipython3",
   "version": "3.8.8"
  }
 },
 "nbformat": 4,
 "nbformat_minor": 5
}
